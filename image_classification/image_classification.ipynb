{
 "cells": [
  {
   "cell_type": "markdown",
   "metadata": {
    "collapsed": true
   },
   "source": [
    "# Image Classification\n",
    "In this project, you'll classify images from the [CIFAR-10 dataset](https://www.cs.toronto.edu/~kriz/cifar.html).  The dataset consists of airplanes, dogs, cats, and other objects. You'll preprocess the images, then train a convolutional neural network on all the samples. The images need to be normalized and the labels need to be one-hot encoded.  You'll get to apply what you learned and build a convolutional, max pooling, dropout, and fully connected layers.  At the end, you'll get to see your neural network's predictions on the sample images.\n",
    "## Get the Data\n",
    "Run the following cell to download the [CIFAR-10 dataset for python](https://www.cs.toronto.edu/~kriz/cifar-10-python.tar.gz)."
   ]
  },
  {
   "cell_type": "code",
   "execution_count": 1,
   "metadata": {},
   "outputs": [
    {
     "name": "stdout",
     "output_type": "stream",
     "text": [
      "All files found!\n"
     ]
    }
   ],
   "source": [
    "\"\"\"\n",
    "DON'T MODIFY ANYTHING IN THIS CELL THAT IS BELOW THIS LINE\n",
    "\"\"\"\n",
    "from urllib.request import urlretrieve\n",
    "from os.path import isfile, isdir\n",
    "from tqdm import tqdm\n",
    "import problem_unittests as tests\n",
    "import tarfile\n",
    "\n",
    "cifar10_dataset_folder_path = 'cifar-10-batches-py'\n",
    "\n",
    "class DLProgress(tqdm):\n",
    "    last_block = 0\n",
    "\n",
    "    def hook(self, block_num=1, block_size=1, total_size=None):\n",
    "        self.total = total_size\n",
    "        self.update((block_num - self.last_block) * block_size)\n",
    "        self.last_block = block_num\n",
    "\n",
    "if not isfile('cifar-10-python.tar.gz'):\n",
    "    with DLProgress(unit='B', unit_scale=True, miniters=1, desc='CIFAR-10 Dataset') as pbar:\n",
    "        urlretrieve(\n",
    "            'https://www.cs.toronto.edu/~kriz/cifar-10-python.tar.gz',\n",
    "            'cifar-10-python.tar.gz',\n",
    "            pbar.hook)\n",
    "\n",
    "if not isdir(cifar10_dataset_folder_path):\n",
    "    with tarfile.open('cifar-10-python.tar.gz') as tar:\n",
    "        tar.extractall()\n",
    "        tar.close()\n",
    "\n",
    "\n",
    "tests.test_folder_path(cifar10_dataset_folder_path)"
   ]
  },
  {
   "cell_type": "markdown",
   "metadata": {},
   "source": [
    "## Explore the Data\n",
    "The dataset is broken into batches to prevent your machine from running out of memory.  The CIFAR-10 dataset consists of 5 batches, named `data_batch_1`, `data_batch_2`, etc.. Each batch contains the labels and images that are one of the following:\n",
    "* airplane\n",
    "* automobile\n",
    "* bird\n",
    "* cat\n",
    "* deer\n",
    "* dog\n",
    "* frog\n",
    "* horse\n",
    "* ship\n",
    "* truck\n",
    "\n",
    "Understanding a dataset is part of making predictions on the data.  Play around with the code cell below by changing the `batch_id` and `sample_id`. The `batch_id` is the id for a batch (1-5). The `sample_id` is the id for a image and label pair in the batch.\n",
    "\n",
    "Ask yourself \"What are all possible labels?\", \"What is the range of values for the image data?\", \"Are the labels in order or random?\".  Answers to questions like these will help you preprocess the data and end up with better predictions."
   ]
  },
  {
   "cell_type": "code",
   "execution_count": 2,
   "metadata": {},
   "outputs": [
    {
     "name": "stdout",
     "output_type": "stream",
     "text": [
      "\n",
      "Stats of batch 1:\n",
      "Samples: 10000\n",
      "Label Counts: {0: 1005, 1: 974, 2: 1032, 3: 1016, 4: 999, 5: 937, 6: 1030, 7: 1001, 8: 1025, 9: 981}\n",
      "First 20 Labels: [6, 9, 9, 4, 1, 1, 2, 7, 8, 3, 4, 7, 7, 2, 9, 9, 9, 3, 2, 6]\n",
      "\n",
      "Example of Image 5:\n",
      "Image - Min Value: 0 Max Value: 252\n",
      "Image - Shape: (32, 32, 3)\n",
      "Label - Label Id: 1 Name: automobile\n"
     ]
    },
    {
     "data": {
      "image/png": "[encoded data removed]",
      "text/plain": [
       "<matplotlib.figure.Figure at 0x114bb95f8>"
      ]
     },
     "metadata": {
      "image/png": {
       "height": 250,
       "width": 253
      }
     },
     "output_type": "display_data"
    }
   ],
   "source": [
    "%matplotlib inline\n",
    "%config InlineBackend.figure_format = 'retina'\n",
    "\n",
    "import helper\n",
    "import numpy as np\n",
    "\n",
    "# Explore the dataset\n",
    "batch_id = 1\n",
    "sample_id = 5\n",
    "helper.display_stats(cifar10_dataset_folder_path, batch_id, sample_id)"
   ]
  },
  {
   "cell_type": "markdown",
   "metadata": {},
   "source": [
    "## Implement Preprocess Functions\n",
    "### Normalize\n",
    "In the cell below, implement the `normalize` function to take in image data, `x`, and return it as a normalized Numpy array. The values should be in the range of 0 to 1, inclusive.  The return object should be the same shape as `x`."
   ]
  },
  {
   "cell_type": "code",
   "execution_count": 3,
   "metadata": {},
   "outputs": [
    {
     "name": "stdout",
     "output_type": "stream",
     "text": [
      "Tests Passed\n"
     ]
    }
   ],
   "source": [
    "def normalize(x):\n",
    "    \"\"\"\n",
    "    Normalize a list of sample image data in the range of 0 to 1\n",
    "    : x: List of image data.  The image shape is (32, 32, 3)\n",
    "    : return: Numpy array of normalize data\n",
    "    \"\"\"\n",
    "    # TODO: Implement Function\n",
    "    return np.array(x/255)\n",
    "\n",
    "\n",
    "\"\"\"\n",
    "DON'T MODIFY ANYTHING IN THIS CELL THAT IS BELOW THIS LINE\n",
    "\"\"\"\n",
    "tests.test_normalize(normalize)"
   ]
  },
  {
   "cell_type": "markdown",
   "metadata": {},
   "source": [
    "### One-hot encode\n",
    "Just like the previous code cell, you'll be implementing a function for preprocessing.  This time, you'll implement the `one_hot_encode` function. The input, `x`, are a list of labels.  Implement the function to return the list of labels as One-Hot encoded Numpy array.  The possible values for labels are 0 to 9. The one-hot encoding function should return the same encoding for each value between each call to `one_hot_encode`.  Make sure to save the map of encodings outside the function.\n",
    "\n",
    "**Hint:**\n",
    "\n",
    "Look into LabelBinarizer in the preprocessing module of sklearn."
   ]
  },
  {
   "cell_type": "code",
   "execution_count": 4,
   "metadata": {},
   "outputs": [
    {
     "name": "stdout",
     "output_type": "stream",
     "text": [
      "Tests Passed\n"
     ]
    }
   ],
   "source": [
    "from sklearn import preprocessing\n",
    "label = preprocessing.LabelBinarizer()\n",
    "label.fit([0,1,2,3,4,5,6,7,8,9])\n",
    "def one_hot_encode(x):\n",
    "    \"\"\"\n",
    "    One hot encode a list of sample labels. Return a one-hot encoded vector for each label.\n",
    "    : x: List of sample Labels\n",
    "    : return: Numpy array of one-hot encoded labels\n",
    "    \"\"\"\n",
    "    # TODO: Implement Function\n",
    "    \n",
    "    return label.transform(x)\n",
    "\n",
    "\n",
    "\"\"\"\n",
    "DON'T MODIFY ANYTHING IN THIS CELL THAT IS BELOW THIS LINE\n",
    "\"\"\"\n",
    "tests.test_one_hot_encode(one_hot_encode)"
   ]
  },
  {
   "cell_type": "markdown",
   "metadata": {},
   "source": [
    "### Randomize Data\n",
    "As you saw from exploring the data above, the order of the samples are randomized.  It doesn't hurt to randomize it again, but you don't need to for this dataset."
   ]
  },
  {
   "cell_type": "markdown",
   "metadata": {},
   "source": [
    "## Preprocess all the data and save it\n",
    "Running the code cell below will preprocess all the CIFAR-10 data and save it to file. The code below also uses 10% of the training data for validation."
   ]
  },
  {
   "cell_type": "code",
   "execution_count": 5,
   "metadata": {
    "collapsed": true
   },
   "outputs": [],
   "source": [
    "\"\"\"\n",
    "DON'T MODIFY ANYTHING IN THIS CELL\n",
    "\"\"\"\n",
    "# Preprocess Training, Validation, and Testing Data\n",
    "helper.preprocess_and_save_data(cifar10_dataset_folder_path, normalize, one_hot_encode)"
   ]
  },
  {
   "cell_type": "markdown",
   "metadata": {},
   "source": [
    "# Check Point\n",
    "This is your first checkpoint.  If you ever decide to come back to this notebook or have to restart the notebook, you can start from here.  The preprocessed data has been saved to disk."
   ]
  },
  {
   "cell_type": "code",
   "execution_count": 6,
   "metadata": {
    "collapsed": true
   },
   "outputs": [],
   "source": [
    "\"\"\"\n",
    "DON'T MODIFY ANYTHING IN THIS CELL\n",
    "\"\"\"\n",
    "import pickle\n",
    "import problem_unittests as tests\n",
    "import helper\n",
    "\n",
    "# Load the Preprocessed Validation data\n",
    "valid_features, valid_labels = pickle.load(open('preprocess_validation.p', mode='rb'))"
   ]
  },
  {
   "cell_type": "markdown",
   "metadata": {},
   "source": [
    "## Build the network\n",
    "For the neural network, you'll build each layer into a function.  Most of the code you've seen has been outside of functions. To test your code more thoroughly, we require that you put each layer in a function.  This allows us to give you better feedback and test for simple mistakes using our unittests before you submit your project.\n",
    "\n",
    ">**Note:** If you're finding it hard to dedicate enough time for this course each week, we've provided a small shortcut to this part of the project. In the next couple of problems, you'll have the option to use classes from the [TensorFlow Layers](https://www.tensorflow.org/api_docs/python/tf/layers) or [TensorFlow Layers (contrib)](https://www.tensorflow.org/api_guides/python/contrib.layers) packages to build each layer, except the layers you build in the \"Convolutional and Max Pooling Layer\" section.  TF Layers is similar to Keras's and TFLearn's abstraction to layers, so it's easy to pickup.\n",
    "\n",
    ">However, if you would like to get the most out of this course, try to solve all the problems _without_ using anything from the TF Layers packages. You **can** still use classes from other packages that happen to have the same name as ones you find in TF Layers! For example, instead of using the TF Layers version of the `conv2d` class, [tf.layers.conv2d](https://www.tensorflow.org/api_docs/python/tf/layers/conv2d), you would want to use the TF Neural Network version of `conv2d`, [tf.nn.conv2d](https://www.tensorflow.org/api_docs/python/tf/nn/conv2d). \n",
    "\n",
    "Let's begin!\n",
    "\n",
    "### Input\n",
    "The neural network needs to read the image data, one-hot encoded labels, and dropout keep probability. Implement the following functions\n",
    "* Implement `neural_net_image_input`\n",
    " * Return a [TF Placeholder](https://www.tensorflow.org/api_docs/python/tf/placeholder)\n",
    " * Set the shape using `image_shape` with batch size set to `None`.\n",
    " * Name the TensorFlow placeholder \"x\" using the TensorFlow `name` parameter in the [TF Placeholder](https://www.tensorflow.org/api_docs/python/tf/placeholder).\n",
    "* Implement `neural_net_label_input`\n",
    " * Return a [TF Placeholder](https://www.tensorflow.org/api_docs/python/tf/placeholder)\n",
    " * Set the shape using `n_classes` with batch size set to `None`.\n",
    " * Name the TensorFlow placeholder \"y\" using the TensorFlow `name` parameter in the [TF Placeholder](https://www.tensorflow.org/api_docs/python/tf/placeholder).\n",
    "* Implement `neural_net_keep_prob_input`\n",
    " * Return a [TF Placeholder](https://www.tensorflow.org/api_docs/python/tf/placeholder) for dropout keep probability.\n",
    " * Name the TensorFlow placeholder \"keep_prob\" using the TensorFlow `name` parameter in the [TF Placeholder](https://www.tensorflow.org/api_docs/python/tf/placeholder).\n",
    "\n",
    "These names will be used at the end of the project to load your saved model.\n",
    "\n",
    "Note: `None` for shapes in TensorFlow allow for a dynamic size."
   ]
  },
  {
   "cell_type": "code",
   "execution_count": 7,
   "metadata": {},
   "outputs": [
    {
     "name": "stdout",
     "output_type": "stream",
     "text": [
      "Image Input Tests Passed.\n",
      "Label Input Tests Passed.\n",
      "Keep Prob Tests Passed.\n"
     ]
    }
   ],
   "source": [
    "import tensorflow as tf\n",
    "\n",
    "def neural_net_image_input(image_shape):\n",
    "    \"\"\"\n",
    "    Return a Tensor for a batch of image input\n",
    "    : image_shape: Shape of the images\n",
    "    : return: Tensor for image input.\n",
    "    \"\"\"\n",
    "    # TODO: Implement Function\n",
    "    return tf.placeholder(tf.float32, shape=[None, image_shape[0], image_shape[1], image_shape[2]], name='x')\n",
    "\n",
    "\n",
    "def neural_net_label_input(n_classes):\n",
    "    \"\"\"\n",
    "    Return a Tensor for a batch of label input\n",
    "    : n_classes: Number of classes\n",
    "    : return: Tensor for label input.\n",
    "    \"\"\"\n",
    "    # TODO: Implement Function\n",
    "    return tf.placeholder(tf.float32, [None, n_classes], name='y')\n",
    "\n",
    "\n",
    "def neural_net_keep_prob_input():\n",
    "    \"\"\"\n",
    "    Return a Tensor for keep probability\n",
    "    : return: Tensor for keep probability.\n",
    "    \"\"\"\n",
    "    # TODO: Implement Function\n",
    "    return tf.placeholder(tf.float32, name='keep_prob')\n",
    "\n",
    "\n",
    "\"\"\"\n",
    "DON'T MODIFY ANYTHING IN THIS CELL THAT IS BELOW THIS LINE\n",
    "\"\"\"\n",
    "tf.reset_default_graph()\n",
    "tests.test_nn_image_inputs(neural_net_image_input)\n",
    "tests.test_nn_label_inputs(neural_net_label_input)\n",
    "tests.test_nn_keep_prob_inputs(neural_net_keep_prob_input)"
   ]
  },
  {
   "cell_type": "markdown",
   "metadata": {},
   "source": [
    "### Convolution and Max Pooling Layer\n",
    "Convolution layers have a lot of success with images. For this code cell, you should implement the function `conv2d_maxpool` to apply convolution then max pooling:\n",
    "* Create the weight and bias using `conv_ksize`, `conv_num_outputs` and the shape of `x_tensor`.\n",
    "* Apply a convolution to `x_tensor` using weight and `conv_strides`.\n",
    " * We recommend you use same padding, but you're welcome to use any padding.\n",
    "* Add bias\n",
    "* Add a nonlinear activation to the convolution.\n",
    "* Apply Max Pooling using `pool_ksize` and `pool_strides`.\n",
    " * We recommend you use same padding, but you're welcome to use any padding.\n",
    "\n",
    "**Note:** You **can't** use [TensorFlow Layers](https://www.tensorflow.org/api_docs/python/tf/layers) or [TensorFlow Layers (contrib)](https://www.tensorflow.org/api_guides/python/contrib.layers) for **this** layer, but you can still use TensorFlow's [Neural Network](https://www.tensorflow.org/api_docs/python/tf/nn) package. You may still use the shortcut option for all the **other** layers.\n",
    "\n",
    "** Hint: **\n",
    "\n",
    "When unpacking values as an argument in Python, look into the [unpacking](https://docs.python.org/3/tutorial/controlflow.html#unpacking-argument-lists) operator. "
   ]
  },
  {
   "cell_type": "code",
   "execution_count": 9,
   "metadata": {},
   "outputs": [
    {
     "name": "stdout",
     "output_type": "stream",
     "text": [
      "Tests Passed\n"
     ]
    }
   ],
   "source": [
    "def conv2d_maxpool(x_tensor, conv_num_outputs, conv_ksize, conv_strides, pool_ksize, pool_strides):\n",
    "    \"\"\"\n",
    "    Apply convolution then max pooling to x_tensor\n",
    "    :param x_tensor: TensorFlow Tensor\n",
    "    :param conv_num_outputs: Number of outputs for the convolutional layer\n",
    "    :param conv_ksize: kernal size 2-D Tuple for the convolutional layer\n",
    "    :param conv_strides: Stride 2-D Tuple for convolution\n",
    "    :param pool_ksize: kernal size 2-D Tuple for pool\n",
    "    :param pool_strides: Stride 2-D Tuple for pool\n",
    "    : return: A tensor that represents convolution and max pooling of x_tensor\n",
    "    \"\"\"\n",
    "    # TODO: Implement Function\n",
    "    input_depth = int(x_tensor.get_shape().as_list()[3])\n",
    "    \n",
    "    filter_height = int(conv_ksize[0])\n",
    "    filter_width = int(conv_ksize[1])\n",
    "    \n",
    "    weights = tf.Variable(tf.truncated_normal([filter_height, filter_width, input_depth, conv_num_outputs], mean=0.0, stddev=0.1))\n",
    "    bias = tf.Variable(tf.zeros(conv_num_outputs))\n",
    "    \n",
    "    out = tf.nn.conv2d(x_tensor, weights, strides=[1, conv_strides[0], conv_strides[1], 1], padding='SAME')\n",
    "    output=tf.nn.bias_add(out,bias)\n",
    "    \n",
    "    #Nonlinear activation ReLU\n",
    "    output=tf.nn.relu(output)\n",
    "    maxpool = tf.nn.max_pool(output, ksize=[1, pool_ksize[0], pool_ksize[1], 1],strides=[1, pool_strides[0], pool_strides[1], 1], padding='SAME')\n",
    "    \n",
    "    return maxpool \n",
    "\n",
    "\n",
    "\"\"\"\n",
    "DON'T MODIFY ANYTHING IN THIS CELL THAT IS BELOW THIS LINE\n",
    "\"\"\"\n",
    "tests.test_con_pool(conv2d_maxpool)"
   ]
  },
  {
   "cell_type": "markdown",
   "metadata": {},
   "source": [
    "### Flatten Layer\n",
    "Implement the `flatten` function to change the dimension of `x_tensor` from a 4-D tensor to a 2-D tensor.  The output should be the shape (*Batch Size*, *Flattened Image Size*). Shortcut option: you can use classes from the [TensorFlow Layers](https://www.tensorflow.org/api_docs/python/tf/layers) or [TensorFlow Layers (contrib)](https://www.tensorflow.org/api_guides/python/contrib.layers) packages for this layer. For more of a challenge, only use other TensorFlow packages."
   ]
  },
  {
   "cell_type": "code",
   "execution_count": 10,
   "metadata": {},
   "outputs": [
    {
     "name": "stdout",
     "output_type": "stream",
     "text": [
      "Tests Passed\n"
     ]
    }
   ],
   "source": [
    "def flatten(x_tensor):\n",
    "    \"\"\"\n",
    "    Flatten x_tensor to (Batch Size, Flattened Image Size)\n",
    "    : x_tensor: A tensor of size (Batch Size, ...), where ... are the image dimensions.\n",
    "    : return: A tensor of size (Batch Size, Flattened Image Size).\n",
    "    \"\"\"\n",
    "    # TODO: Implement Function\n",
    "    dim = x_tensor.get_shape().as_list()\n",
    "    return tf.reshape(x_tensor, [-1, dim[1]*dim[2]*dim[3]])\n",
    "\n",
    "\n",
    "\"\"\"\n",
    "DON'T MODIFY ANYTHING IN THIS CELL THAT IS BELOW THIS LINE\n",
    "\"\"\"\n",
    "tests.test_flatten(flatten)"
   ]
  },
  {
   "cell_type": "markdown",
   "metadata": {},
   "source": [
    "### Fully-Connected Layer\n",
    "Implement the `fully_conn` function to apply a fully connected layer to `x_tensor` with the shape (*Batch Size*, *num_outputs*). Shortcut option: you can use classes from the [TensorFlow Layers](https://www.tensorflow.org/api_docs/python/tf/layers) or [TensorFlow Layers (contrib)](https://www.tensorflow.org/api_guides/python/contrib.layers) packages for this layer. For more of a challenge, only use other TensorFlow packages."
   ]
  },
  {
   "cell_type": "code",
   "execution_count": 12,
   "metadata": {},
   "outputs": [
    {
     "name": "stdout",
     "output_type": "stream",
     "text": [
      "Tests Passed\n"
     ]
    }
   ],
   "source": [
    "def fully_conn(x_tensor, num_outputs):\n",
    "    \"\"\"\n",
    "    Apply a fully connected layer to x_tensor using weight and bias\n",
    "    : x_tensor: A 2-D tensor where the first dimension is batch size.\n",
    "    : num_outputs: The number of output that the new tensor should be.\n",
    "    : return: A 2-D tensor where the second dimension is num_outputs.\n",
    "    \"\"\"\n",
    "    # TODO: Implement Function\n",
    "    num_inputs = int(x_tensor.get_shape().as_list()[1])\n",
    "    weights = tf.Variable(tf.truncated_normal([num_inputs, num_outputs], stddev=0.1))\n",
    "    biases = tf.Variable(tf.truncated_normal([num_outputs], stddev=0.1))\n",
    "    \n",
    "    fc = tf.reshape(x_tensor, [-1, weights.get_shape().as_list()[0]])\n",
    "    fc = tf.add(tf.matmul(fc, weights), biases)\n",
    "    fc = tf.nn.relu(fc)\n",
    "    return fc\n",
    "\n",
    "\n",
    "\"\"\"\n",
    "DON'T MODIFY ANYTHING IN THIS CELL THAT IS BELOW THIS LINE\n",
    "\"\"\"\n",
    "tests.test_fully_conn(fully_conn)"
   ]
  },
  {
   "cell_type": "markdown",
   "metadata": {},
   "source": [
    "### Output Layer\n",
    "Implement the `output` function to apply a fully connected layer to `x_tensor` with the shape (*Batch Size*, *num_outputs*). Shortcut option: you can use classes from the [TensorFlow Layers](https://www.tensorflow.org/api_docs/python/tf/layers) or [TensorFlow Layers (contrib)](https://www.tensorflow.org/api_guides/python/contrib.layers) packages for this layer. For more of a challenge, only use other TensorFlow packages.\n",
    "\n",
    "**Note:** Activation, softmax, or cross entropy should **not** be applied to this."
   ]
  },
  {
   "cell_type": "code",
   "execution_count": 13,
   "metadata": {},
   "outputs": [
    {
     "name": "stdout",
     "output_type": "stream",
     "text": [
      "Tests Passed\n"
     ]
    }
   ],
   "source": [
    "def output(x_tensor, num_outputs):\n",
    "    \"\"\"\n",
    "    Apply a output layer to x_tensor using weight and bias\n",
    "    : x_tensor: A 2-D tensor where the first dimension is batch size.\n",
    "    : num_outputs: The number of output that the new tensor should be.\n",
    "    : return: A 2-D tensor where the second dimension is num_outputs.\n",
    "    \"\"\"\n",
    "    # TODO: Implement Function\n",
    "    num_inputs = int(x_tensor.get_shape().as_list()[1])\n",
    "    \n",
    "    weights = tf.Variable(tf.truncated_normal([num_inputs, num_outputs], stddev=0.1))\n",
    "    biases = tf.Variable(tf.truncated_normal([num_outputs], stddev=0.1))\n",
    "    \n",
    "    output_layer = tf.add(tf.matmul(x_tensor, weights), biases)\n",
    "    return output_layer\n",
    "\n",
    "\n",
    "\"\"\"\n",
    "DON'T MODIFY ANYTHING IN THIS CELL THAT IS BELOW THIS LINE\n",
    "\"\"\"\n",
    "tests.test_output(output)"
   ]
  },
  {
   "cell_type": "markdown",
   "metadata": {},
   "source": [
    "### Create Convolutional Model\n",
    "Implement the function `conv_net` to create a convolutional neural network model. The function takes in a batch of images, `x`, and outputs logits.  Use the layers you created above to create this model:\n",
    "\n",
    "* Apply 1, 2, or 3 Convolution and Max Pool layers\n",
    "* Apply a Flatten Layer\n",
    "* Apply 1, 2, or 3 Fully Connected Layers\n",
    "* Apply an Output Layer\n",
    "* Return the output\n",
    "* Apply [TensorFlow's Dropout](https://www.tensorflow.org/api_docs/python/tf/nn/dropout) to one or more layers in the model using `keep_prob`. "
   ]
  },
  {
   "cell_type": "code",
   "execution_count": 16,
   "metadata": {},
   "outputs": [
    {
     "name": "stdout",
     "output_type": "stream",
     "text": [
      "Neural Network Built!\n"
     ]
    }
   ],
   "source": [
    "def conv_net(x, keep_prob):\n",
    "    \"\"\"\n",
    "    Create a convolutional neural network model\n",
    "    : x: Placeholder tensor that holds image data.\n",
    "    : keep_prob: Placeholder tensor that hold dropout keep probability.\n",
    "    : return: Tensor that represents logits\n",
    "    \"\"\"\n",
    "    # TODO: Apply 1, 2, or 3 Convolution and Max Pool layers\n",
    "    #    Play around with different number of outputs, kernel size and stride\n",
    "    # Function Definition from Above:\n",
    "    #    conv2d_maxpool(x_tensor, conv_num_outputs, conv_ksize, conv_strides, pool_ksize, pool_strides)\n",
    "    \n",
    "    #conv1 = conv2d_maxpool(x,   16,  [2, 2], [1, 1], [1, 1], [1, 1])\n",
    "\n",
    "    conv1 = conv2d_maxpool(x,   10,  [2, 2], [4, 4], [2, 2], [2, 2])\n",
    "    \n",
    "\n",
    "\n",
    "    conv2 = conv2d_maxpool(x,   16,  [2, 2], [1, 1], [1, 1], [1, 1])\n",
    "    conv2 = tf.nn.dropout(conv2, keep_prob)\n",
    "    \n",
    "\n",
    "    # maxpool 2x2 stride\n",
    "    conv4 = conv2d_maxpool(conv2, 32,  [4, 4], [2, 2], [2, 2], [2, 2])\n",
    "    conv4 = tf.nn.dropout(conv4, keep_prob)\n",
    "\n",
    "    # TODO: Apply a Flatten Layer\n",
    "    # Function Definition from Above:\n",
    "    #   flatten(x_tensor)\n",
    "    \n",
    "    flat=flatten(conv4)\n",
    "    \n",
    "    # TODO: Apply 1, 2, or 3 Fully Connected Layers\n",
    "    #    Play around with different number of outputs\n",
    "    # Function Definition from Above:\n",
    "    #   fully_conn(x_tensor, num_outputs)\n",
    "    fc = fully_conn(flat, 100)\n",
    "    fc = tf.nn.dropout(fc, keep_prob)\n",
    "    \n",
    "    # TODO: Apply an Output Layer\n",
    "    #    Set this to the number of classes\n",
    "    # Function Definition from Above:\n",
    "    #   output(x_tensor, num_outputs)\n",
    "    output_layer = output(fc, 10)\n",
    "    \n",
    "    # TODO: return output\n",
    "    return output_layer\n",
    "\n",
    "\n",
    "\"\"\"\n",
    "DON'T MODIFY ANYTHING IN THIS CELL THAT IS BELOW THIS LINE\n",
    "\"\"\"\n",
    "\n",
    "##############################\n",
    "## Build the Neural Network ##\n",
    "##############################\n",
    "\n",
    "# Remove previous weights, bias, inputs, etc..\n",
    "tf.reset_default_graph()\n",
    "\n",
    "# Inputs\n",
    "x = neural_net_image_input((32, 32, 3))\n",
    "y = neural_net_label_input(10)\n",
    "keep_prob = neural_net_keep_prob_input()\n",
    "\n",
    "# Model\n",
    "logits = conv_net(x, keep_prob)\n",
    "\n",
    "# Name logits Tensor, so that is can be loaded from disk after training\n",
    "logits = tf.identity(logits, name='logits')\n",
    "\n",
    "# Loss and Optimizer\n",
    "cost = tf.reduce_mean(tf.nn.softmax_cross_entropy_with_logits(logits=logits, labels=y))\n",
    "optimizer = tf.train.AdamOptimizer().minimize(cost)\n",
    "\n",
    "# Accuracy\n",
    "correct_pred = tf.equal(tf.argmax(logits, 1), tf.argmax(y, 1))\n",
    "accuracy = tf.reduce_mean(tf.cast(correct_pred, tf.float32), name='accuracy')\n",
    "\n",
    "tests.test_conv_net(conv_net)"
   ]
  },
  {
   "cell_type": "markdown",
   "metadata": {},
   "source": [
    "## Train the Neural Network\n",
    "### Single Optimization\n",
    "Implement the function `train_neural_network` to do a single optimization.  The optimization should use `optimizer` to optimize in `session` with a `feed_dict` of the following:\n",
    "* `x` for image input\n",
    "* `y` for labels\n",
    "* `keep_prob` for keep probability for dropout\n",
    "\n",
    "This function will be called for each batch, so `tf.global_variables_initializer()` has already been called.\n",
    "\n",
    "Note: Nothing needs to be returned. This function is only optimizing the neural network."
   ]
  },
  {
   "cell_type": "code",
   "execution_count": 17,
   "metadata": {},
   "outputs": [
    {
     "name": "stdout",
     "output_type": "stream",
     "text": [
      "Tests Passed\n"
     ]
    }
   ],
   "source": [
    "def train_neural_network(session, optimizer, keep_probability, feature_batch, label_batch):\n",
    "    \"\"\"\n",
    "    Optimize the session on a batch of images and labels\n",
    "    : session: Current TensorFlow session\n",
    "    : optimizer: TensorFlow optimizer function\n",
    "    : keep_probability: keep probability\n",
    "    : feature_batch: Batch of Numpy image data\n",
    "    : label_batch: Batch of Numpy label data\n",
    "    \"\"\"\n",
    "    # TODO: Implement Function\n",
    "    session.run(optimizer, feed_dict={x: feature_batch, y: label_batch, keep_prob: keep_probability}) \n",
    "\n",
    "\n",
    "\"\"\"\n",
    "DON'T MODIFY ANYTHING IN THIS CELL THAT IS BELOW THIS LINE\n",
    "\"\"\"\n",
    "tests.test_train_nn(train_neural_network)"
   ]
  },
  {
   "cell_type": "markdown",
   "metadata": {},
   "source": [
    "### Show Stats\n",
    "Implement the function `print_stats` to print loss and validation accuracy.  Use the global variables `valid_features` and `valid_labels` to calculate validation accuracy.  Use a keep probability of `1.0` to calculate the loss and validation accuracy."
   ]
  },
  {
   "cell_type": "code",
   "execution_count": 18,
   "metadata": {
    "collapsed": true
   },
   "outputs": [],
   "source": [
    "def print_stats(session, feature_batch, label_batch, cost, accuracy):\n",
    "    \"\"\"\n",
    "    Print information about loss and validation accuracy\n",
    "    : session: Current TensorFlow session\n",
    "    : feature_batch: Batch of Numpy image data\n",
    "    : label_batch: Batch of Numpy label data\n",
    "    : cost: TensorFlow cost function\n",
    "    : accuracy: TensorFlow accuracy function\n",
    "    \"\"\"\n",
    "    # TODO: Implement Function\n",
    "    loss = session.run(cost, feed_dict={x: feature_batch, y: label_batch, keep_prob: 1.})\n",
    "    valid_acc = session.run(accuracy, feed_dict={x: valid_features, y: valid_labels, keep_prob: 1.})\n",
    "    \n",
    "    print('Loss: {:>10.4f}, Validation Accuracy: {:.6f}'.format(loss, valid_acc))"
   ]
  },
  {
   "cell_type": "markdown",
   "metadata": {},
   "source": [
    "### Hyperparameters\n",
    "Tune the following parameters:\n",
    "* Set `epochs` to the number of iterations until the network stops learning or start overfitting\n",
    "* Set `batch_size` to the highest number that your machine has memory for.  Most people set them to common sizes of memory:\n",
    " * 64\n",
    " * 128\n",
    " * 256\n",
    " * ...\n",
    "* Set `keep_probability` to the probability of keeping a node using dropout"
   ]
  },
  {
   "cell_type": "code",
   "execution_count": 22,
   "metadata": {
    "collapsed": true
   },
   "outputs": [],
   "source": [
    "# TODO: Tune Parameters\n",
    "epochs = 50\n",
    "batch_size = 256\n",
    "keep_probability = 0.5"
   ]
  },
  {
   "cell_type": "markdown",
   "metadata": {},
   "source": [
    "### Train on a Single CIFAR-10 Batch\n",
    "Instead of training the neural network on all the CIFAR-10 batches of data, let's use a single batch. This should save time while you iterate on the model to get a better accuracy.  Once the final validation accuracy is 50% or greater, run the model on all the data in the next section."
   ]
  },
  {
   "cell_type": "code",
   "execution_count": 21,
   "metadata": {},
   "outputs": [
    {
     "name": "stdout",
     "output_type": "stream",
     "text": [
      "Checking the Training on a Single Batch...\n",
      "Epoch  1, CIFAR-10 Batch 1:  Loss:     2.1807, Validation Accuracy: 0.262400\n",
      "Epoch  2, CIFAR-10 Batch 1:  Loss:     2.0222, Validation Accuracy: 0.345600\n",
      "Epoch  3, CIFAR-10 Batch 1:  Loss:     1.8999, Validation Accuracy: 0.402000\n",
      "Epoch  4, CIFAR-10 Batch 1:  Loss:     1.8134, Validation Accuracy: 0.414600\n",
      "Epoch  5, CIFAR-10 Batch 1:  Loss:     1.7813, Validation Accuracy: 0.429600\n",
      "Epoch  6, CIFAR-10 Batch 1:  Loss:     1.7541, Validation Accuracy: 0.435400\n",
      "Epoch  7, CIFAR-10 Batch 1:  Loss:     1.7158, Validation Accuracy: 0.442400\n",
      "Epoch  8, CIFAR-10 Batch 1:  Loss:     1.5978, Validation Accuracy: 0.459400\n",
      "Epoch  9, CIFAR-10 Batch 1:  Loss:     1.5771, Validation Accuracy: 0.463400\n",
      "Epoch 10, CIFAR-10 Batch 1:  Loss:     1.5398, Validation Accuracy: 0.471000\n",
      "Epoch 11, CIFAR-10 Batch 1:  Loss:     1.4958, Validation Accuracy: 0.476000\n",
      "Epoch 12, CIFAR-10 Batch 1:  Loss:     1.5374, Validation Accuracy: 0.475200\n",
      "Epoch 13, CIFAR-10 Batch 1:  Loss:     1.4622, Validation Accuracy: 0.488400\n",
      "Epoch 14, CIFAR-10 Batch 1:  Loss:     1.4580, Validation Accuracy: 0.494400\n",
      "Epoch 15, CIFAR-10 Batch 1:  Loss:     1.4544, Validation Accuracy: 0.494400\n",
      "Epoch 16, CIFAR-10 Batch 1:  Loss:     1.3788, Validation Accuracy: 0.501000\n",
      "Epoch 17, CIFAR-10 Batch 1:  Loss:     1.4137, Validation Accuracy: 0.506200\n",
      "Epoch 18, CIFAR-10 Batch 1:  Loss:     1.3422, Validation Accuracy: 0.517200\n",
      "Epoch 19, CIFAR-10 Batch 1:  Loss:     1.3224, Validation Accuracy: 0.515800\n",
      "Epoch 20, CIFAR-10 Batch 1:  Loss:     1.2878, Validation Accuracy: 0.519600\n",
      "Epoch 21, CIFAR-10 Batch 1:  Loss:     1.3167, Validation Accuracy: 0.520400\n",
      "Epoch 22, CIFAR-10 Batch 1:  Loss:     1.2700, Validation Accuracy: 0.529600\n",
      "Epoch 23, CIFAR-10 Batch 1:  Loss:     1.2147, Validation Accuracy: 0.529800\n",
      "Epoch 24, CIFAR-10 Batch 1:  Loss:     1.2417, Validation Accuracy: 0.524800\n",
      "Epoch 25, CIFAR-10 Batch 1:  Loss:     1.2017, Validation Accuracy: 0.529800\n",
      "Epoch 26, CIFAR-10 Batch 1:  Loss:     1.1577, Validation Accuracy: 0.536400\n",
      "Epoch 27, CIFAR-10 Batch 1:  Loss:     1.1462, Validation Accuracy: 0.535400\n",
      "Epoch 28, CIFAR-10 Batch 1:  Loss:     1.1336, Validation Accuracy: 0.538600\n",
      "Epoch 29, CIFAR-10 Batch 1:  Loss:     1.0767, Validation Accuracy: 0.547000\n",
      "Epoch 30, CIFAR-10 Batch 1:  Loss:     1.0966, Validation Accuracy: 0.546800\n",
      "Epoch 31, CIFAR-10 Batch 1:  Loss:     1.0785, Validation Accuracy: 0.548000\n",
      "Epoch 32, CIFAR-10 Batch 1:  Loss:     1.0783, Validation Accuracy: 0.547800\n",
      "Epoch 33, CIFAR-10 Batch 1:  Loss:     1.0522, Validation Accuracy: 0.559400\n",
      "Epoch 34, CIFAR-10 Batch 1:  Loss:     1.0002, Validation Accuracy: 0.555600\n",
      "Epoch 35, CIFAR-10 Batch 1:  Loss:     0.9798, Validation Accuracy: 0.553400\n",
      "Epoch 36, CIFAR-10 Batch 1:  Loss:     0.9955, Validation Accuracy: 0.557200\n",
      "Epoch 37, CIFAR-10 Batch 1:  Loss:     1.0021, Validation Accuracy: 0.562600\n",
      "Epoch 38, CIFAR-10 Batch 1:  Loss:     0.9691, Validation Accuracy: 0.562600\n",
      "Epoch 39, CIFAR-10 Batch 1:  Loss:     0.9386, Validation Accuracy: 0.565200\n",
      "Epoch 40, CIFAR-10 Batch 1:  Loss:     0.9400, Validation Accuracy: 0.556000\n",
      "Epoch 41, CIFAR-10 Batch 1:  Loss:     0.9161, Validation Accuracy: 0.568400\n",
      "Epoch 42, CIFAR-10 Batch 1:  Loss:     0.9239, Validation Accuracy: 0.560600\n",
      "Epoch 43, CIFAR-10 Batch 1:  Loss:     0.8825, Validation Accuracy: 0.564600\n",
      "Epoch 44, CIFAR-10 Batch 1:  Loss:     0.8651, Validation Accuracy: 0.562400\n",
      "Epoch 45, CIFAR-10 Batch 1:  Loss:     0.8868, Validation Accuracy: 0.561600\n",
      "Epoch 46, CIFAR-10 Batch 1:  Loss:     0.8253, Validation Accuracy: 0.564400\n",
      "Epoch 47, CIFAR-10 Batch 1:  Loss:     0.8429, Validation Accuracy: 0.572600\n",
      "Epoch 48, CIFAR-10 Batch 1:  Loss:     0.8445, Validation Accuracy: 0.573200\n",
      "Epoch 49, CIFAR-10 Batch 1:  Loss:     0.8529, Validation Accuracy: 0.573400\n",
      "Epoch 50, CIFAR-10 Batch 1:  Loss:     0.8158, Validation Accuracy: 0.573400\n",
      "Epoch 51, CIFAR-10 Batch 1:  Loss:     0.8240, Validation Accuracy: 0.573600\n",
      "Epoch 52, CIFAR-10 Batch 1:  Loss:     0.8131, Validation Accuracy: 0.565400\n",
      "Epoch 53, CIFAR-10 Batch 1:  Loss:     0.7649, Validation Accuracy: 0.573400\n",
      "Epoch 54, CIFAR-10 Batch 1:  Loss:     0.7688, Validation Accuracy: 0.575000\n",
      "Epoch 55, CIFAR-10 Batch 1:  Loss:     0.7743, Validation Accuracy: 0.578600\n",
      "Epoch 56, CIFAR-10 Batch 1:  Loss:     0.7673, Validation Accuracy: 0.576800\n",
      "Epoch 57, CIFAR-10 Batch 1:  Loss:     0.7540, Validation Accuracy: 0.577800\n",
      "Epoch 58, CIFAR-10 Batch 1:  Loss:     0.7537, Validation Accuracy: 0.572200\n",
      "Epoch 59, CIFAR-10 Batch 1:  Loss:     0.7062, Validation Accuracy: 0.574000\n",
      "Epoch 60, CIFAR-10 Batch 1:  Loss:     0.7148, Validation Accuracy: 0.572600\n",
      "Epoch 61, CIFAR-10 Batch 1:  Loss:     0.7243, Validation Accuracy: 0.572200\n",
      "Epoch 62, CIFAR-10 Batch 1:  Loss:     0.6984, Validation Accuracy: 0.577200\n",
      "Epoch 63, CIFAR-10 Batch 1:  Loss:     0.6902, Validation Accuracy: 0.578800\n",
      "Epoch 64, CIFAR-10 Batch 1:  Loss:     0.7180, Validation Accuracy: 0.575000\n",
      "Epoch 65, CIFAR-10 Batch 1:  Loss:     0.6569, Validation Accuracy: 0.575400\n",
      "Epoch 66, CIFAR-10 Batch 1:  Loss:     0.6806, Validation Accuracy: 0.575000\n",
      "Epoch 67, CIFAR-10 Batch 1:  Loss:     0.6264, Validation Accuracy: 0.577200\n",
      "Epoch 68, CIFAR-10 Batch 1:  Loss:     0.6292, Validation Accuracy: 0.577600\n",
      "Epoch 69, CIFAR-10 Batch 1:  Loss:     0.6603, Validation Accuracy: 0.575000\n",
      "Epoch 70, CIFAR-10 Batch 1:  Loss:     0.6342, Validation Accuracy: 0.585400\n",
      "Epoch 71, CIFAR-10 Batch 1:  Loss:     0.5931, Validation Accuracy: 0.586800\n",
      "Epoch 72, CIFAR-10 Batch 1:  Loss:     0.5866, Validation Accuracy: 0.576600\n",
      "Epoch 73, CIFAR-10 Batch 1:  Loss:     0.6308, Validation Accuracy: 0.578400\n",
      "Epoch 74, CIFAR-10 Batch 1:  Loss:     0.5940, Validation Accuracy: 0.579000\n",
      "Epoch 75, CIFAR-10 Batch 1:  Loss:     0.5904, Validation Accuracy: 0.578200\n",
      "Epoch 76, CIFAR-10 Batch 1:  Loss:     0.6203, Validation Accuracy: 0.579400\n",
      "Epoch 77, CIFAR-10 Batch 1:  Loss:     0.5701, Validation Accuracy: 0.584200\n",
      "Epoch 78, CIFAR-10 Batch 1:  Loss:     0.5816, Validation Accuracy: 0.577000\n",
      "Epoch 79, CIFAR-10 Batch 1:  Loss:     0.5970, Validation Accuracy: 0.581600\n",
      "Epoch 80, CIFAR-10 Batch 1:  Loss:     0.6022, Validation Accuracy: 0.583400\n",
      "Epoch 81, CIFAR-10 Batch 1:  Loss:     0.6153, Validation Accuracy: 0.585200\n",
      "Epoch 82, CIFAR-10 Batch 1:  Loss:     0.5663, Validation Accuracy: 0.587200\n",
      "Epoch 83, CIFAR-10 Batch 1:  Loss:     0.5722, Validation Accuracy: 0.576600\n",
      "Epoch 84, CIFAR-10 Batch 1:  Loss:     0.6206, Validation Accuracy: 0.586600\n",
      "Epoch 85, CIFAR-10 Batch 1:  Loss:     0.5637, Validation Accuracy: 0.579600\n",
      "Epoch 86, CIFAR-10 Batch 1:  Loss:     0.5883, Validation Accuracy: 0.586600\n",
      "Epoch 87, CIFAR-10 Batch 1:  Loss:     0.5100, Validation Accuracy: 0.585800\n",
      "Epoch 88, CIFAR-10 Batch 1:  Loss:     0.5517, Validation Accuracy: 0.585800\n",
      "Epoch 89, CIFAR-10 Batch 1:  Loss:     0.5488, Validation Accuracy: 0.593200\n",
      "Epoch 90, CIFAR-10 Batch 1:  Loss:     0.5167, Validation Accuracy: 0.592200\n",
      "Epoch 91, CIFAR-10 Batch 1:  Loss:     0.5367, Validation Accuracy: 0.587400\n",
      "Epoch 92, CIFAR-10 Batch 1:  Loss:     0.5093, Validation Accuracy: 0.590600\n",
      "Epoch 93, CIFAR-10 Batch 1:  Loss:     0.5579, Validation Accuracy: 0.588800\n",
      "Epoch 94, CIFAR-10 Batch 1:  Loss:     0.5340, Validation Accuracy: 0.589000\n",
      "Epoch 95, CIFAR-10 Batch 1:  Loss:     0.4986, Validation Accuracy: 0.588200\n",
      "Epoch 96, CIFAR-10 Batch 1:  Loss:     0.5153, Validation Accuracy: 0.586200\n",
      "Epoch 97, CIFAR-10 Batch 1:  Loss:     0.4834, Validation Accuracy: 0.589600\n",
      "Epoch 98, CIFAR-10 Batch 1:  Loss:     0.5269, Validation Accuracy: 0.592400\n",
      "Epoch 99, CIFAR-10 Batch 1:  Loss:     0.4781, Validation Accuracy: 0.590200\n",
      "Epoch 100, CIFAR-10 Batch 1:  Loss:     0.5081, Validation Accuracy: 0.590800\n"
     ]
    }
   ],
   "source": [
    "\"\"\"\n",
    "DON'T MODIFY ANYTHING IN THIS CELL\n",
    "\"\"\"\n",
    "print('Checking the Training on a Single Batch...')\n",
    "with tf.Session() as sess:\n",
    "    # Initializing the variables\n",
    "    sess.run(tf.global_variables_initializer())\n",
    "    \n",
    "    # Training cycle\n",
    "    for epoch in range(epochs):\n",
    "        batch_i = 1\n",
    "        for batch_features, batch_labels in helper.load_preprocess_training_batch(batch_i, batch_size):\n",
    "            train_neural_network(sess, optimizer, keep_probability, batch_features, batch_labels)\n",
    "        print('Epoch {:>2}, CIFAR-10 Batch {}:  '.format(epoch + 1, batch_i), end='')\n",
    "        print_stats(sess, batch_features, batch_labels, cost, accuracy)"
   ]
  },
  {
   "cell_type": "markdown",
   "metadata": {},
   "source": [
    "### Fully Train the Model\n",
    "Now that you got a good accuracy with a single CIFAR-10 batch, try it with all five batches."
   ]
  },
  {
   "cell_type": "code",
   "execution_count": 23,
   "metadata": {},
   "outputs": [
    {
     "name": "stdout",
     "output_type": "stream",
     "text": [
      "Training...\n",
      "Epoch  1, CIFAR-10 Batch 1:  Loss:     2.2780, Validation Accuracy: 0.182400\n",
      "Epoch  1, CIFAR-10 Batch 2:  Loss:     2.1859, Validation Accuracy: 0.219400\n",
      "Epoch  1, CIFAR-10 Batch 3:  Loss:     1.9269, Validation Accuracy: 0.259200\n",
      "Epoch  1, CIFAR-10 Batch 4:  Loss:     1.9348, Validation Accuracy: 0.280200\n",
      "Epoch  1, CIFAR-10 Batch 5:  Loss:     1.9758, Validation Accuracy: 0.330000\n",
      "Epoch  2, CIFAR-10 Batch 1:  Loss:     1.9676, Validation Accuracy: 0.351600\n",
      "Epoch  2, CIFAR-10 Batch 2:  Loss:     1.8697, Validation Accuracy: 0.371200\n",
      "Epoch  2, CIFAR-10 Batch 3:  Loss:     1.6515, Validation Accuracy: 0.383800\n",
      "Epoch  2, CIFAR-10 Batch 4:  Loss:     1.6732, Validation Accuracy: 0.395600\n",
      "Epoch  2, CIFAR-10 Batch 5:  Loss:     1.7160, Validation Accuracy: 0.412000\n",
      "Epoch  3, CIFAR-10 Batch 1:  Loss:     1.8068, Validation Accuracy: 0.425000\n",
      "Epoch  3, CIFAR-10 Batch 2:  Loss:     1.6248, Validation Accuracy: 0.435000\n",
      "Epoch  3, CIFAR-10 Batch 3:  Loss:     1.4580, Validation Accuracy: 0.437800\n",
      "Epoch  3, CIFAR-10 Batch 4:  Loss:     1.5557, Validation Accuracy: 0.450000\n",
      "Epoch  3, CIFAR-10 Batch 5:  Loss:     1.5418, Validation Accuracy: 0.451000\n",
      "Epoch  4, CIFAR-10 Batch 1:  Loss:     1.7086, Validation Accuracy: 0.455600\n",
      "Epoch  4, CIFAR-10 Batch 2:  Loss:     1.5141, Validation Accuracy: 0.466800\n",
      "Epoch  4, CIFAR-10 Batch 3:  Loss:     1.3194, Validation Accuracy: 0.473600\n",
      "Epoch  4, CIFAR-10 Batch 4:  Loss:     1.4349, Validation Accuracy: 0.486600\n",
      "Epoch  4, CIFAR-10 Batch 5:  Loss:     1.4323, Validation Accuracy: 0.477200\n",
      "Epoch  5, CIFAR-10 Batch 1:  Loss:     1.6004, Validation Accuracy: 0.494600\n",
      "Epoch  5, CIFAR-10 Batch 2:  Loss:     1.3997, Validation Accuracy: 0.486600\n",
      "Epoch  5, CIFAR-10 Batch 3:  Loss:     1.2060, Validation Accuracy: 0.499000\n",
      "Epoch  5, CIFAR-10 Batch 4:  Loss:     1.3508, Validation Accuracy: 0.504600\n",
      "Epoch  5, CIFAR-10 Batch 5:  Loss:     1.3828, Validation Accuracy: 0.499000\n",
      "Epoch  6, CIFAR-10 Batch 1:  Loss:     1.5290, Validation Accuracy: 0.505000\n",
      "Epoch  6, CIFAR-10 Batch 2:  Loss:     1.3532, Validation Accuracy: 0.506200\n",
      "Epoch  6, CIFAR-10 Batch 3:  Loss:     1.1353, Validation Accuracy: 0.515600\n",
      "Epoch  6, CIFAR-10 Batch 4:  Loss:     1.3036, Validation Accuracy: 0.521200\n",
      "Epoch  6, CIFAR-10 Batch 5:  Loss:     1.3315, Validation Accuracy: 0.516400\n",
      "Epoch  7, CIFAR-10 Batch 1:  Loss:     1.4906, Validation Accuracy: 0.524600\n",
      "Epoch  7, CIFAR-10 Batch 2:  Loss:     1.2886, Validation Accuracy: 0.520000\n",
      "Epoch  7, CIFAR-10 Batch 3:  Loss:     1.0663, Validation Accuracy: 0.516000\n",
      "Epoch  7, CIFAR-10 Batch 4:  Loss:     1.2660, Validation Accuracy: 0.532400\n",
      "Epoch  7, CIFAR-10 Batch 5:  Loss:     1.2754, Validation Accuracy: 0.528600\n",
      "Epoch  8, CIFAR-10 Batch 1:  Loss:     1.3990, Validation Accuracy: 0.532400\n",
      "Epoch  8, CIFAR-10 Batch 2:  Loss:     1.2249, Validation Accuracy: 0.528400\n",
      "Epoch  8, CIFAR-10 Batch 3:  Loss:     1.0332, Validation Accuracy: 0.534800\n",
      "Epoch  8, CIFAR-10 Batch 4:  Loss:     1.1926, Validation Accuracy: 0.542200\n",
      "Epoch  8, CIFAR-10 Batch 5:  Loss:     1.2289, Validation Accuracy: 0.544400\n",
      "Epoch  9, CIFAR-10 Batch 1:  Loss:     1.3457, Validation Accuracy: 0.543200\n",
      "Epoch  9, CIFAR-10 Batch 2:  Loss:     1.2022, Validation Accuracy: 0.536200\n",
      "Epoch  9, CIFAR-10 Batch 3:  Loss:     0.9802, Validation Accuracy: 0.549400\n",
      "Epoch  9, CIFAR-10 Batch 4:  Loss:     1.1726, Validation Accuracy: 0.556600\n",
      "Epoch  9, CIFAR-10 Batch 5:  Loss:     1.1585, Validation Accuracy: 0.553800\n",
      "Epoch 10, CIFAR-10 Batch 1:  Loss:     1.2981, Validation Accuracy: 0.556000\n",
      "Epoch 10, CIFAR-10 Batch 2:  Loss:     1.1236, Validation Accuracy: 0.561000\n",
      "Epoch 10, CIFAR-10 Batch 3:  Loss:     0.9759, Validation Accuracy: 0.560200\n",
      "Epoch 10, CIFAR-10 Batch 4:  Loss:     1.1389, Validation Accuracy: 0.566400\n",
      "Epoch 10, CIFAR-10 Batch 5:  Loss:     1.1214, Validation Accuracy: 0.560200\n",
      "Epoch 11, CIFAR-10 Batch 1:  Loss:     1.2592, Validation Accuracy: 0.560200\n",
      "Epoch 11, CIFAR-10 Batch 2:  Loss:     1.0760, Validation Accuracy: 0.555600\n",
      "Epoch 11, CIFAR-10 Batch 3:  Loss:     0.9212, Validation Accuracy: 0.563000\n",
      "Epoch 11, CIFAR-10 Batch 4:  Loss:     1.0950, Validation Accuracy: 0.567600\n",
      "Epoch 11, CIFAR-10 Batch 5:  Loss:     1.0793, Validation Accuracy: 0.567000\n",
      "Epoch 12, CIFAR-10 Batch 1:  Loss:     1.1722, Validation Accuracy: 0.572000\n",
      "Epoch 12, CIFAR-10 Batch 2:  Loss:     1.0275, Validation Accuracy: 0.570800\n",
      "Epoch 12, CIFAR-10 Batch 3:  Loss:     0.9069, Validation Accuracy: 0.571200\n",
      "Epoch 12, CIFAR-10 Batch 4:  Loss:     1.0728, Validation Accuracy: 0.577200\n",
      "Epoch 12, CIFAR-10 Batch 5:  Loss:     1.0428, Validation Accuracy: 0.575000\n",
      "Epoch 13, CIFAR-10 Batch 1:  Loss:     1.1444, Validation Accuracy: 0.580600\n",
      "Epoch 13, CIFAR-10 Batch 2:  Loss:     1.0150, Validation Accuracy: 0.571600\n",
      "Epoch 13, CIFAR-10 Batch 3:  Loss:     0.8883, Validation Accuracy: 0.573600\n",
      "Epoch 13, CIFAR-10 Batch 4:  Loss:     1.0193, Validation Accuracy: 0.591000\n",
      "Epoch 13, CIFAR-10 Batch 5:  Loss:     1.0130, Validation Accuracy: 0.581400\n",
      "Epoch 14, CIFAR-10 Batch 1:  Loss:     1.0894, Validation Accuracy: 0.584800\n",
      "Epoch 14, CIFAR-10 Batch 2:  Loss:     0.9901, Validation Accuracy: 0.586000\n",
      "Epoch 14, CIFAR-10 Batch 3:  Loss:     0.8774, Validation Accuracy: 0.585800\n",
      "Epoch 14, CIFAR-10 Batch 4:  Loss:     0.9820, Validation Accuracy: 0.591200\n",
      "Epoch 14, CIFAR-10 Batch 5:  Loss:     0.9978, Validation Accuracy: 0.587400\n",
      "Epoch 15, CIFAR-10 Batch 1:  Loss:     1.0579, Validation Accuracy: 0.597200\n",
      "Epoch 15, CIFAR-10 Batch 2:  Loss:     0.9525, Validation Accuracy: 0.598200\n",
      "Epoch 15, CIFAR-10 Batch 3:  Loss:     0.8346, Validation Accuracy: 0.588000\n",
      "Epoch 15, CIFAR-10 Batch 4:  Loss:     0.9721, Validation Accuracy: 0.599600\n",
      "Epoch 15, CIFAR-10 Batch 5:  Loss:     0.9632, Validation Accuracy: 0.600600\n",
      "Epoch 16, CIFAR-10 Batch 1:  Loss:     1.0171, Validation Accuracy: 0.598800\n",
      "Epoch 16, CIFAR-10 Batch 2:  Loss:     0.9549, Validation Accuracy: 0.597600\n",
      "Epoch 16, CIFAR-10 Batch 3:  Loss:     0.8347, Validation Accuracy: 0.595800\n",
      "Epoch 16, CIFAR-10 Batch 4:  Loss:     0.9439, Validation Accuracy: 0.604800\n",
      "Epoch 16, CIFAR-10 Batch 5:  Loss:     0.9319, Validation Accuracy: 0.602000\n",
      "Epoch 17, CIFAR-10 Batch 1:  Loss:     0.9932, Validation Accuracy: 0.608600\n",
      "Epoch 17, CIFAR-10 Batch 2:  Loss:     0.9224, Validation Accuracy: 0.601400\n",
      "Epoch 17, CIFAR-10 Batch 3:  Loss:     0.8268, Validation Accuracy: 0.606000\n",
      "Epoch 17, CIFAR-10 Batch 4:  Loss:     0.9367, Validation Accuracy: 0.607000\n",
      "Epoch 17, CIFAR-10 Batch 5:  Loss:     0.9109, Validation Accuracy: 0.610200\n",
      "Epoch 18, CIFAR-10 Batch 1:  Loss:     0.9599, Validation Accuracy: 0.614400\n",
      "Epoch 18, CIFAR-10 Batch 2:  Loss:     0.9033, Validation Accuracy: 0.609200\n",
      "Epoch 18, CIFAR-10 Batch 3:  Loss:     0.8085, Validation Accuracy: 0.610600\n",
      "Epoch 18, CIFAR-10 Batch 4:  Loss:     0.9219, Validation Accuracy: 0.622400\n",
      "Epoch 18, CIFAR-10 Batch 5:  Loss:     0.9019, Validation Accuracy: 0.606600\n",
      "Epoch 19, CIFAR-10 Batch 1:  Loss:     0.9185, Validation Accuracy: 0.620400\n",
      "Epoch 19, CIFAR-10 Batch 2:  Loss:     0.8749, Validation Accuracy: 0.616000\n",
      "Epoch 19, CIFAR-10 Batch 3:  Loss:     0.7703, Validation Accuracy: 0.623200\n",
      "Epoch 19, CIFAR-10 Batch 4:  Loss:     0.8713, Validation Accuracy: 0.619600\n",
      "Epoch 19, CIFAR-10 Batch 5:  Loss:     0.8793, Validation Accuracy: 0.611000\n",
      "Epoch 20, CIFAR-10 Batch 1:  Loss:     0.8993, Validation Accuracy: 0.619200\n",
      "Epoch 20, CIFAR-10 Batch 2:  Loss:     0.8709, Validation Accuracy: 0.612800\n",
      "Epoch 20, CIFAR-10 Batch 3:  Loss:     0.7635, Validation Accuracy: 0.616400\n",
      "Epoch 20, CIFAR-10 Batch 4:  Loss:     0.8803, Validation Accuracy: 0.622600\n",
      "Epoch 20, CIFAR-10 Batch 5:  Loss:     0.8550, Validation Accuracy: 0.623400\n",
      "Epoch 21, CIFAR-10 Batch 1:  Loss:     0.8843, Validation Accuracy: 0.624600\n",
      "Epoch 21, CIFAR-10 Batch 2:  Loss:     0.8507, Validation Accuracy: 0.615800\n",
      "Epoch 21, CIFAR-10 Batch 3:  Loss:     0.7544, Validation Accuracy: 0.620000\n",
      "Epoch 21, CIFAR-10 Batch 4:  Loss:     0.8483, Validation Accuracy: 0.625400\n",
      "Epoch 21, CIFAR-10 Batch 5:  Loss:     0.8485, Validation Accuracy: 0.623600\n",
      "Epoch 22, CIFAR-10 Batch 1:  Loss:     0.8705, Validation Accuracy: 0.624000\n"
     ]
    },
    {
     "name": "stdout",
     "output_type": "stream",
     "text": [
      "Epoch 22, CIFAR-10 Batch 2:  Loss:     0.8302, Validation Accuracy: 0.628600\n",
      "Epoch 22, CIFAR-10 Batch 3:  Loss:     0.7042, Validation Accuracy: 0.630400\n",
      "Epoch 22, CIFAR-10 Batch 4:  Loss:     0.8389, Validation Accuracy: 0.628800\n",
      "Epoch 22, CIFAR-10 Batch 5:  Loss:     0.8102, Validation Accuracy: 0.622400\n",
      "Epoch 23, CIFAR-10 Batch 1:  Loss:     0.8480, Validation Accuracy: 0.625400\n",
      "Epoch 23, CIFAR-10 Batch 2:  Loss:     0.7956, Validation Accuracy: 0.630600\n",
      "Epoch 23, CIFAR-10 Batch 3:  Loss:     0.7132, Validation Accuracy: 0.628600\n",
      "Epoch 23, CIFAR-10 Batch 4:  Loss:     0.8157, Validation Accuracy: 0.631600\n",
      "Epoch 23, CIFAR-10 Batch 5:  Loss:     0.8036, Validation Accuracy: 0.633000\n",
      "Epoch 24, CIFAR-10 Batch 1:  Loss:     0.8231, Validation Accuracy: 0.633200\n",
      "Epoch 24, CIFAR-10 Batch 2:  Loss:     0.7989, Validation Accuracy: 0.630400\n",
      "Epoch 24, CIFAR-10 Batch 3:  Loss:     0.7102, Validation Accuracy: 0.633600\n",
      "Epoch 24, CIFAR-10 Batch 4:  Loss:     0.7859, Validation Accuracy: 0.641200\n",
      "Epoch 24, CIFAR-10 Batch 5:  Loss:     0.7793, Validation Accuracy: 0.632200\n",
      "Epoch 25, CIFAR-10 Batch 1:  Loss:     0.7673, Validation Accuracy: 0.640000\n",
      "Epoch 25, CIFAR-10 Batch 2:  Loss:     0.8105, Validation Accuracy: 0.637000\n",
      "Epoch 25, CIFAR-10 Batch 3:  Loss:     0.6873, Validation Accuracy: 0.630200\n",
      "Epoch 25, CIFAR-10 Batch 4:  Loss:     0.7664, Validation Accuracy: 0.643000\n",
      "Epoch 25, CIFAR-10 Batch 5:  Loss:     0.7523, Validation Accuracy: 0.640000\n",
      "Epoch 26, CIFAR-10 Batch 1:  Loss:     0.7909, Validation Accuracy: 0.643000\n",
      "Epoch 26, CIFAR-10 Batch 2:  Loss:     0.7603, Validation Accuracy: 0.636600\n",
      "Epoch 26, CIFAR-10 Batch 3:  Loss:     0.6545, Validation Accuracy: 0.642200\n",
      "Epoch 26, CIFAR-10 Batch 4:  Loss:     0.7506, Validation Accuracy: 0.644600\n",
      "Epoch 26, CIFAR-10 Batch 5:  Loss:     0.7493, Validation Accuracy: 0.646400\n",
      "Epoch 27, CIFAR-10 Batch 1:  Loss:     0.7503, Validation Accuracy: 0.645000\n",
      "Epoch 27, CIFAR-10 Batch 2:  Loss:     0.7288, Validation Accuracy: 0.640800\n",
      "Epoch 27, CIFAR-10 Batch 3:  Loss:     0.6403, Validation Accuracy: 0.646600\n",
      "Epoch 27, CIFAR-10 Batch 4:  Loss:     0.7176, Validation Accuracy: 0.650600\n",
      "Epoch 27, CIFAR-10 Batch 5:  Loss:     0.7279, Validation Accuracy: 0.645200\n",
      "Epoch 28, CIFAR-10 Batch 1:  Loss:     0.7526, Validation Accuracy: 0.647600\n",
      "Epoch 28, CIFAR-10 Batch 2:  Loss:     0.7075, Validation Accuracy: 0.642600\n",
      "Epoch 28, CIFAR-10 Batch 3:  Loss:     0.6472, Validation Accuracy: 0.638000\n",
      "Epoch 28, CIFAR-10 Batch 4:  Loss:     0.7201, Validation Accuracy: 0.645200\n",
      "Epoch 28, CIFAR-10 Batch 5:  Loss:     0.7378, Validation Accuracy: 0.641400\n",
      "Epoch 29, CIFAR-10 Batch 1:  Loss:     0.7268, Validation Accuracy: 0.646600\n",
      "Epoch 29, CIFAR-10 Batch 2:  Loss:     0.7330, Validation Accuracy: 0.638800\n",
      "Epoch 29, CIFAR-10 Batch 3:  Loss:     0.6314, Validation Accuracy: 0.648600\n",
      "Epoch 29, CIFAR-10 Batch 4:  Loss:     0.7108, Validation Accuracy: 0.654600\n",
      "Epoch 29, CIFAR-10 Batch 5:  Loss:     0.7337, Validation Accuracy: 0.650000\n",
      "Epoch 30, CIFAR-10 Batch 1:  Loss:     0.7053, Validation Accuracy: 0.652400\n",
      "Epoch 30, CIFAR-10 Batch 2:  Loss:     0.7210, Validation Accuracy: 0.648200\n",
      "Epoch 30, CIFAR-10 Batch 3:  Loss:     0.6269, Validation Accuracy: 0.646000\n",
      "Epoch 30, CIFAR-10 Batch 4:  Loss:     0.6848, Validation Accuracy: 0.658400\n",
      "Epoch 30, CIFAR-10 Batch 5:  Loss:     0.6833, Validation Accuracy: 0.650200\n",
      "Epoch 31, CIFAR-10 Batch 1:  Loss:     0.7189, Validation Accuracy: 0.651400\n",
      "Epoch 31, CIFAR-10 Batch 2:  Loss:     0.6740, Validation Accuracy: 0.645800\n",
      "Epoch 31, CIFAR-10 Batch 3:  Loss:     0.6232, Validation Accuracy: 0.648400\n",
      "Epoch 31, CIFAR-10 Batch 4:  Loss:     0.6588, Validation Accuracy: 0.658800\n",
      "Epoch 31, CIFAR-10 Batch 5:  Loss:     0.6839, Validation Accuracy: 0.647800\n",
      "Epoch 32, CIFAR-10 Batch 1:  Loss:     0.7044, Validation Accuracy: 0.653400\n",
      "Epoch 32, CIFAR-10 Batch 2:  Loss:     0.6845, Validation Accuracy: 0.643400\n",
      "Epoch 32, CIFAR-10 Batch 3:  Loss:     0.6052, Validation Accuracy: 0.652200\n",
      "Epoch 32, CIFAR-10 Batch 4:  Loss:     0.6594, Validation Accuracy: 0.655400\n",
      "Epoch 32, CIFAR-10 Batch 5:  Loss:     0.6790, Validation Accuracy: 0.651600\n",
      "Epoch 33, CIFAR-10 Batch 1:  Loss:     0.7159, Validation Accuracy: 0.656000\n",
      "Epoch 33, CIFAR-10 Batch 2:  Loss:     0.6966, Validation Accuracy: 0.651200\n",
      "Epoch 33, CIFAR-10 Batch 3:  Loss:     0.5968, Validation Accuracy: 0.652400\n",
      "Epoch 33, CIFAR-10 Batch 4:  Loss:     0.6662, Validation Accuracy: 0.654800\n",
      "Epoch 33, CIFAR-10 Batch 5:  Loss:     0.6746, Validation Accuracy: 0.651600\n",
      "Epoch 34, CIFAR-10 Batch 1:  Loss:     0.6884, Validation Accuracy: 0.655000\n",
      "Epoch 34, CIFAR-10 Batch 2:  Loss:     0.6732, Validation Accuracy: 0.647800\n",
      "Epoch 34, CIFAR-10 Batch 3:  Loss:     0.6042, Validation Accuracy: 0.649200\n",
      "Epoch 34, CIFAR-10 Batch 4:  Loss:     0.6576, Validation Accuracy: 0.654000\n",
      "Epoch 34, CIFAR-10 Batch 5:  Loss:     0.6767, Validation Accuracy: 0.642000\n",
      "Epoch 35, CIFAR-10 Batch 1:  Loss:     0.6742, Validation Accuracy: 0.663000\n",
      "Epoch 35, CIFAR-10 Batch 2:  Loss:     0.6517, Validation Accuracy: 0.649800\n",
      "Epoch 35, CIFAR-10 Batch 3:  Loss:     0.6045, Validation Accuracy: 0.663000\n",
      "Epoch 35, CIFAR-10 Batch 4:  Loss:     0.6421, Validation Accuracy: 0.660000\n",
      "Epoch 35, CIFAR-10 Batch 5:  Loss:     0.6343, Validation Accuracy: 0.656600\n",
      "Epoch 36, CIFAR-10 Batch 1:  Loss:     0.6675, Validation Accuracy: 0.662200\n",
      "Epoch 36, CIFAR-10 Batch 2:  Loss:     0.6328, Validation Accuracy: 0.654600\n",
      "Epoch 36, CIFAR-10 Batch 3:  Loss:     0.5842, Validation Accuracy: 0.654800\n",
      "Epoch 36, CIFAR-10 Batch 4:  Loss:     0.6118, Validation Accuracy: 0.659800\n",
      "Epoch 36, CIFAR-10 Batch 5:  Loss:     0.6282, Validation Accuracy: 0.656400\n",
      "Epoch 37, CIFAR-10 Batch 1:  Loss:     0.6745, Validation Accuracy: 0.657800\n",
      "Epoch 37, CIFAR-10 Batch 2:  Loss:     0.6255, Validation Accuracy: 0.659800\n",
      "Epoch 37, CIFAR-10 Batch 3:  Loss:     0.5463, Validation Accuracy: 0.655400\n",
      "Epoch 37, CIFAR-10 Batch 4:  Loss:     0.6165, Validation Accuracy: 0.664600\n",
      "Epoch 37, CIFAR-10 Batch 5:  Loss:     0.6207, Validation Accuracy: 0.655800\n",
      "Epoch 38, CIFAR-10 Batch 1:  Loss:     0.6663, Validation Accuracy: 0.660800\n",
      "Epoch 38, CIFAR-10 Batch 2:  Loss:     0.6465, Validation Accuracy: 0.653600\n",
      "Epoch 38, CIFAR-10 Batch 3:  Loss:     0.5556, Validation Accuracy: 0.643800\n",
      "Epoch 38, CIFAR-10 Batch 4:  Loss:     0.5967, Validation Accuracy: 0.662200\n",
      "Epoch 38, CIFAR-10 Batch 5:  Loss:     0.6228, Validation Accuracy: 0.654800\n",
      "Epoch 39, CIFAR-10 Batch 1:  Loss:     0.6418, Validation Accuracy: 0.661400\n",
      "Epoch 39, CIFAR-10 Batch 2:  Loss:     0.6281, Validation Accuracy: 0.661400\n",
      "Epoch 39, CIFAR-10 Batch 3:  Loss:     0.5498, Validation Accuracy: 0.659200\n",
      "Epoch 39, CIFAR-10 Batch 4:  Loss:     0.6052, Validation Accuracy: 0.660400\n",
      "Epoch 39, CIFAR-10 Batch 5:  Loss:     0.6147, Validation Accuracy: 0.652600\n",
      "Epoch 40, CIFAR-10 Batch 1:  Loss:     0.6244, Validation Accuracy: 0.657600\n",
      "Epoch 40, CIFAR-10 Batch 2:  Loss:     0.5981, Validation Accuracy: 0.665800\n",
      "Epoch 40, CIFAR-10 Batch 3:  Loss:     0.5418, Validation Accuracy: 0.661400\n",
      "Epoch 40, CIFAR-10 Batch 4:  Loss:     0.5878, Validation Accuracy: 0.663400\n",
      "Epoch 40, CIFAR-10 Batch 5:  Loss:     0.6182, Validation Accuracy: 0.658200\n",
      "Epoch 41, CIFAR-10 Batch 1:  Loss:     0.6394, Validation Accuracy: 0.664800\n",
      "Epoch 41, CIFAR-10 Batch 2:  Loss:     0.5978, Validation Accuracy: 0.665400\n",
      "Epoch 41, CIFAR-10 Batch 3:  Loss:     0.5185, Validation Accuracy: 0.659800\n",
      "Epoch 41, CIFAR-10 Batch 4:  Loss:     0.6231, Validation Accuracy: 0.662800\n",
      "Epoch 41, CIFAR-10 Batch 5:  Loss:     0.5996, Validation Accuracy: 0.661000\n",
      "Epoch 42, CIFAR-10 Batch 1:  Loss:     0.6222, Validation Accuracy: 0.669600\n",
      "Epoch 42, CIFAR-10 Batch 2:  Loss:     0.6267, Validation Accuracy: 0.655200\n",
      "Epoch 42, CIFAR-10 Batch 3:  Loss:     0.5239, Validation Accuracy: 0.667800\n",
      "Epoch 42, CIFAR-10 Batch 4:  Loss:     0.6063, Validation Accuracy: 0.665000\n",
      "Epoch 42, CIFAR-10 Batch 5:  Loss:     0.5959, Validation Accuracy: 0.660400\n",
      "Epoch 43, CIFAR-10 Batch 1:  Loss:     0.6239, Validation Accuracy: 0.668800\n",
      "Epoch 43, CIFAR-10 Batch 2:  Loss:     0.5777, Validation Accuracy: 0.658600\n",
      "Epoch 43, CIFAR-10 Batch 3:  Loss:     0.5173, Validation Accuracy: 0.659600\n"
     ]
    },
    {
     "name": "stdout",
     "output_type": "stream",
     "text": [
      "Epoch 43, CIFAR-10 Batch 4:  Loss:     0.5770, Validation Accuracy: 0.668200\n",
      "Epoch 43, CIFAR-10 Batch 5:  Loss:     0.5812, Validation Accuracy: 0.664600\n",
      "Epoch 44, CIFAR-10 Batch 1:  Loss:     0.5994, Validation Accuracy: 0.674600\n",
      "Epoch 44, CIFAR-10 Batch 2:  Loss:     0.5875, Validation Accuracy: 0.667800\n",
      "Epoch 44, CIFAR-10 Batch 3:  Loss:     0.5145, Validation Accuracy: 0.667800\n",
      "Epoch 44, CIFAR-10 Batch 4:  Loss:     0.5746, Validation Accuracy: 0.664000\n",
      "Epoch 44, CIFAR-10 Batch 5:  Loss:     0.5705, Validation Accuracy: 0.665200\n",
      "Epoch 45, CIFAR-10 Batch 1:  Loss:     0.5920, Validation Accuracy: 0.667600\n",
      "Epoch 45, CIFAR-10 Batch 2:  Loss:     0.5621, Validation Accuracy: 0.665800\n",
      "Epoch 45, CIFAR-10 Batch 3:  Loss:     0.4912, Validation Accuracy: 0.667000\n",
      "Epoch 45, CIFAR-10 Batch 4:  Loss:     0.5713, Validation Accuracy: 0.661200\n",
      "Epoch 45, CIFAR-10 Batch 5:  Loss:     0.5777, Validation Accuracy: 0.659400\n",
      "Epoch 46, CIFAR-10 Batch 1:  Loss:     0.5763, Validation Accuracy: 0.669000\n",
      "Epoch 46, CIFAR-10 Batch 2:  Loss:     0.5665, Validation Accuracy: 0.661000\n",
      "Epoch 46, CIFAR-10 Batch 3:  Loss:     0.4982, Validation Accuracy: 0.666200\n",
      "Epoch 46, CIFAR-10 Batch 4:  Loss:     0.5623, Validation Accuracy: 0.668400\n",
      "Epoch 46, CIFAR-10 Batch 5:  Loss:     0.5399, Validation Accuracy: 0.666800\n",
      "Epoch 47, CIFAR-10 Batch 1:  Loss:     0.5665, Validation Accuracy: 0.669200\n",
      "Epoch 47, CIFAR-10 Batch 2:  Loss:     0.5615, Validation Accuracy: 0.662200\n",
      "Epoch 47, CIFAR-10 Batch 3:  Loss:     0.5109, Validation Accuracy: 0.664600\n",
      "Epoch 47, CIFAR-10 Batch 4:  Loss:     0.5736, Validation Accuracy: 0.667200\n",
      "Epoch 47, CIFAR-10 Batch 5:  Loss:     0.5430, Validation Accuracy: 0.669000\n",
      "Epoch 48, CIFAR-10 Batch 1:  Loss:     0.5528, Validation Accuracy: 0.675200\n",
      "Epoch 48, CIFAR-10 Batch 2:  Loss:     0.5527, Validation Accuracy: 0.657200\n",
      "Epoch 48, CIFAR-10 Batch 3:  Loss:     0.4744, Validation Accuracy: 0.670600\n",
      "Epoch 48, CIFAR-10 Batch 4:  Loss:     0.5207, Validation Accuracy: 0.673200\n",
      "Epoch 48, CIFAR-10 Batch 5:  Loss:     0.5370, Validation Accuracy: 0.666800\n",
      "Epoch 49, CIFAR-10 Batch 1:  Loss:     0.5584, Validation Accuracy: 0.671600\n",
      "Epoch 49, CIFAR-10 Batch 2:  Loss:     0.5320, Validation Accuracy: 0.657000\n",
      "Epoch 49, CIFAR-10 Batch 3:  Loss:     0.4640, Validation Accuracy: 0.675400\n",
      "Epoch 49, CIFAR-10 Batch 4:  Loss:     0.5378, Validation Accuracy: 0.672600\n",
      "Epoch 49, CIFAR-10 Batch 5:  Loss:     0.5445, Validation Accuracy: 0.669400\n",
      "Epoch 50, CIFAR-10 Batch 1:  Loss:     0.5585, Validation Accuracy: 0.674800\n",
      "Epoch 50, CIFAR-10 Batch 2:  Loss:     0.5383, Validation Accuracy: 0.667000\n",
      "Epoch 50, CIFAR-10 Batch 3:  Loss:     0.4457, Validation Accuracy: 0.678000\n",
      "Epoch 50, CIFAR-10 Batch 4:  Loss:     0.5098, Validation Accuracy: 0.674400\n",
      "Epoch 50, CIFAR-10 Batch 5:  Loss:     0.5096, Validation Accuracy: 0.668600\n"
     ]
    }
   ],
   "source": [
    "\"\"\"\n",
    "DON'T MODIFY ANYTHING IN THIS CELL\n",
    "\"\"\"\n",
    "save_model_path = './image_classification'\n",
    "\n",
    "print('Training...')\n",
    "with tf.Session() as sess:\n",
    "    # Initializing the variables\n",
    "    sess.run(tf.global_variables_initializer())\n",
    "    \n",
    "    # Training cycle\n",
    "    for epoch in range(epochs):\n",
    "        # Loop over all batches\n",
    "        n_batches = 5\n",
    "        for batch_i in range(1, n_batches + 1):\n",
    "            for batch_features, batch_labels in helper.load_preprocess_training_batch(batch_i, batch_size):\n",
    "                train_neural_network(sess, optimizer, keep_probability, batch_features, batch_labels)\n",
    "            print('Epoch {:>2}, CIFAR-10 Batch {}:  '.format(epoch + 1, batch_i), end='')\n",
    "            print_stats(sess, batch_features, batch_labels, cost, accuracy)\n",
    "            \n",
    "    # Save Model\n",
    "    saver = tf.train.Saver()\n",
    "    save_path = saver.save(sess, save_model_path)"
   ]
  },
  {
   "cell_type": "markdown",
   "metadata": {},
   "source": [
    "# Checkpoint\n",
    "The model has been saved to disk.\n",
    "## Test Model\n",
    "Test your model against the test dataset.  This will be your final accuracy. You should have an accuracy greater than 50%. If you don't, keep tweaking the model architecture and parameters."
   ]
  },
  {
   "cell_type": "code",
   "execution_count": 24,
   "metadata": {},
   "outputs": [
    {
     "name": "stdout",
     "output_type": "stream",
     "text": [
      "INFO:tensorflow:Restoring parameters from ./image_classification\n",
      "Testing Accuracy: 0.66669921875\n",
      "\n"
     ]
    },
    {
     "data": {
      "image/png": "[encoded data removed]",
      "text/plain": [
       "<matplotlib.figure.Figure at 0x11de3ee10>"
      ]
     },
     "metadata": {
      "image/png": {
       "height": 319,
       "width": 355
      }
     },
     "output_type": "display_data"
    }
   ],
   "source": [
    "\"\"\"\n",
    "DON'T MODIFY ANYTHING IN THIS CELL\n",
    "\"\"\"\n",
    "%matplotlib inline\n",
    "%config InlineBackend.figure_format = 'retina'\n",
    "\n",
    "import tensorflow as tf\n",
    "import pickle\n",
    "import helper\n",
    "import random\n",
    "\n",
    "# Set batch size if not already set\n",
    "try:\n",
    "    if batch_size:\n",
    "        pass\n",
    "except NameError:\n",
    "    batch_size = 64\n",
    "\n",
    "save_model_path = './image_classification'\n",
    "n_samples = 4\n",
    "top_n_predictions = 3\n",
    "\n",
    "def test_model():\n",
    "    \"\"\"\n",
    "    Test the saved model against the test dataset\n",
    "    \"\"\"\n",
    "\n",
    "    test_features, test_labels = pickle.load(open('preprocess_training.p', mode='rb'))\n",
    "    loaded_graph = tf.Graph()\n",
    "\n",
    "    with tf.Session(graph=loaded_graph) as sess:\n",
    "        # Load model\n",
    "        loader = tf.train.import_meta_graph(save_model_path + '.meta')\n",
    "        loader.restore(sess, save_model_path)\n",
    "\n",
    "        # Get Tensors from loaded model\n",
    "        loaded_x = loaded_graph.get_tensor_by_name('x:0')\n",
    "        loaded_y = loaded_graph.get_tensor_by_name('y:0')\n",
    "        loaded_keep_prob = loaded_graph.get_tensor_by_name('keep_prob:0')\n",
    "        loaded_logits = loaded_graph.get_tensor_by_name('logits:0')\n",
    "        loaded_acc = loaded_graph.get_tensor_by_name('accuracy:0')\n",
    "        \n",
    "        # Get accuracy in batches for memory limitations\n",
    "        test_batch_acc_total = 0\n",
    "        test_batch_count = 0\n",
    "        \n",
    "        for train_feature_batch, train_label_batch in helper.batch_features_labels(test_features, test_labels, batch_size):\n",
    "            test_batch_acc_total += sess.run(\n",
    "                loaded_acc,\n",
    "                feed_dict={loaded_x: train_feature_batch, loaded_y: train_label_batch, loaded_keep_prob: 1.0})\n",
    "            test_batch_count += 1\n",
    "\n",
    "        print('Testing Accuracy: {}\\n'.format(test_batch_acc_total/test_batch_count))\n",
    "\n",
    "        # Print Random Samples\n",
    "        random_test_features, random_test_labels = tuple(zip(*random.sample(list(zip(test_features, test_labels)), n_samples)))\n",
    "        random_test_predictions = sess.run(\n",
    "            tf.nn.top_k(tf.nn.softmax(loaded_logits), top_n_predictions),\n",
    "            feed_dict={loaded_x: random_test_features, loaded_y: random_test_labels, loaded_keep_prob: 1.0})\n",
    "        helper.display_image_predictions(random_test_features, random_test_labels, random_test_predictions)\n",
    "\n",
    "\n",
    "test_model()"
   ]
  },
  {
   "cell_type": "markdown",
   "metadata": {},
   "source": [
    "## Why 50-80% Accuracy?\n",
    "You might be wondering why you can't get an accuracy any higher. First things first, 50% isn't bad for a simple CNN.  Pure guessing would get you 10% accuracy. That's because there are many more techniques that can be applied to your model and we recemmond that once you are done with this project, you explore!\n",
    "\n",
    "## Submitting This Project\n",
    "When submitting this project, make sure to run all the cells before saving the notebook.  Save the notebook file as \"image_classification.ipynb\" and save it as a HTML file under \"File\" -> \"Download as\".  Include the \"helper.py\" and \"problem_unittests.py\" files in your submission."
   ]
  }
 ],
 "metadata": {
  "kernelspec": {
   "display_name": "Python 3",
   "language": "python",
   "name": "python3"
  },
  "language_info": {
   "codemirror_mode": {
    "name": "ipython",
    "version": 3
   },
   "file_extension": ".py",
   "mimetype": "text/x-python",
   "name": "python",
   "nbconvert_exporter": "python",
   "pygments_lexer": "ipython3",
   "version": "3.5.3"
  }
 },
 "nbformat": 4,
 "nbformat_minor": 1
}
